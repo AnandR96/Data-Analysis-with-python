{
  "nbformat": 4,
  "nbformat_minor": 0,
  "metadata": {
    "colab": {
      "name": "mean-variance-standard .ipynb",
      "provenance": [],
      "collapsed_sections": []
    },
    "kernelspec": {
      "name": "python3",
      "display_name": "Python 3"
    },
    "language_info": {
      "name": "python"
    }
  },
  "cells": [
    {
      "cell_type": "markdown",
      "source": [
        "Create a function named calculate() that uses Numpy to output the mean, variance, standard deviation, max, min, and sum of the rows, columns, and elements in a 3 x 3 matrix.\n",
        "\n",
        "The input of the function should be a list containing 9 digits. The function should convert the list into a 3 x 3 Numpy array, and then return a dictionary containing the mean, variance, standard deviation, max, min, and sum along both axes and for the flattened matrix."
      ],
      "metadata": {
        "id": "Rg4uLw2YH6XQ"
      }
    },
    {
      "cell_type": "markdown",
      "source": [
        "If a list containing less than 9 elements is passed into the function, it should raise a ValueError exception with the message: \"List must contain nine numbers.\" The values in the returned dictionary should be lists and not Numpy arrays."
      ],
      "metadata": {
        "id": "KMBTHcaDIEx2"
      }
    },
    {
      "cell_type": "code",
      "execution_count": 2,
      "metadata": {
        "id": "oFkls16GGR2H"
      },
      "outputs": [],
      "source": [
        "import numpy as np\n",
        "\n",
        "def calculate(list):\n",
        "  if (len(list)==9):\n",
        "    x = np.array(list,dtype=int)\n",
        "    y = np.reshape(x,(3,3))\n",
        "    calculations = {\"mean\" : [np.mean(y,axis = 0).tolist(), np.mean(y,axis = 1).tolist(), np.mean(y)], \"variance\" : [np.var(y,axis=0).tolist(),np.var(y,axis=1).tolist(),np.var(y)], \"standard deviation\": [np.std(y,axis=0).tolist(),np.std(y,axis=1).tolist(),np.std(y)], \"max\":[np.max(y,axis=0).tolist(),np.max(y,axis=1).tolist(),np.max(y)],\"min\": [np.min(y,axis=0).tolist(),np.min(y,axis=1).tolist(),np.min(y)], \"sum\": [np.sum(y,axis=0).tolist(),np.sum(y,axis=1).tolist(),np.sum(y)]}\n",
        "  else:\n",
        "    raise ValueError(\"List must contain nine numbers.\")\n",
        "  \n",
        "  return calculations"
      ]
    },
    {
      "cell_type": "code",
      "source": [
        "calculate([1,2,3,4,5,6,7,8,9])"
      ],
      "metadata": {
        "colab": {
          "base_uri": "https://localhost:8080/"
        },
        "id": "-Sfh09WaGnwe",
        "outputId": "271c165b-e900-4d53-f361-c8dc7400548a"
      },
      "execution_count": 3,
      "outputs": [
        {
          "output_type": "execute_result",
          "data": {
            "text/plain": [
              "{'max': [[7, 8, 9], [3, 6, 9], 9],\n",
              " 'mean': [[4.0, 5.0, 6.0], [2.0, 5.0, 8.0], 5.0],\n",
              " 'min': [[1, 2, 3], [1, 4, 7], 1],\n",
              " 'standard deviation': [[2.449489742783178,\n",
              "   2.449489742783178,\n",
              "   2.449489742783178],\n",
              "  [0.816496580927726, 0.816496580927726, 0.816496580927726],\n",
              "  2.581988897471611],\n",
              " 'sum': [[12, 15, 18], [6, 15, 24], 45],\n",
              " 'variance': [[6.0, 6.0, 6.0],\n",
              "  [0.6666666666666666, 0.6666666666666666, 0.6666666666666666],\n",
              "  6.666666666666667]}"
            ]
          },
          "metadata": {},
          "execution_count": 3
        }
      ]
    },
    {
      "cell_type": "code",
      "source": [
        ""
      ],
      "metadata": {
        "id": "fj0P9xSWIXfq"
      },
      "execution_count": null,
      "outputs": []
    }
  ]
}
