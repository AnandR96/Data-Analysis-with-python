{
  "nbformat": 4,
  "nbformat_minor": 0,
  "metadata": {
    "colab": {
      "name": "Demographic Data Analyzer.ipynb",
      "provenance": [],
      "collapsed_sections": []
    },
    "kernelspec": {
      "name": "python3",
      "display_name": "Python 3"
    },
    "language_info": {
      "name": "python"
    }
  },
  "cells": [
    {
      "cell_type": "markdown",
      "source": [
        "You are given a dataset of demographic data that was extracted from the 1994 Census database"
      ],
      "metadata": {
        "id": "iZdK0SWJLAOZ"
      }
    },
    {
      "cell_type": "markdown",
      "source": [
        "You must use Pandas to answer the following questions:\n",
        "\n",
        "How many people of each race are represented in this dataset? This should be a Pandas series with race names as the index labels. (race column)\n",
        "What is the average age of men?\n",
        "What is the percentage of people who have a Bachelor's degree?\n",
        "What percentage of people with advanced education (Bachelors, Masters, or Doctorate) make more than 50K?\n",
        "What percentage of people without advanced education make more than 50K?\n",
        "What is the minimum number of hours a person works per week?\n",
        "What percentage of the people who work the minimum number of hours per week have a salary of more than 50K?\n",
        "What country has the highest percentage of people that earn >50K and what is that percentage?\n",
        "Identify the most popular occupation for those who earn >50K in India.\n",
        "Use the starter code in the file demographic_data_analyzer. Update the code so all variables set to \"None\" are set to the appropriate calculation or code. Round all decimals to the nearest tenth."
      ],
      "metadata": {
        "id": "hqJxNUTELPRh"
      }
    },
    {
      "cell_type": "code",
      "execution_count": 1,
      "metadata": {
        "id": "EA9xGi2RKJs4"
      },
      "outputs": [],
      "source": [
        "import pandas as pd\n",
        "\n",
        "\n",
        "def calculate_demographic_data(print_data=True):\n",
        "    # Read data from file\n",
        "    df = pd.read_csv(\"/content/adult.data.csv\")\n",
        "\n",
        "    # How many of each race are represented in this dataset? This should be a Pandas series with race names as the index labels.\n",
        "    race_count = df['race'].value_counts()\n",
        "\n",
        "    # What is the average age of men?\n",
        "    average_age_men = round(df.loc[(df['sex'] == 'Male'),'age'].mean(),1)\n",
        "\n",
        "    # What is the percentage of people who have a Bachelor's degree?\n",
        "    percentage_bachelors = round(((df['education'] == 'Bachelors').sum()/df['education'].value_counts().sum())*100,1)\n",
        "\n",
        "    # What percentage of people with advanced education (`Bachelors`, `Masters`, or `Doctorate`) make more than 50K?\n",
        "    # What percentage of people without advanced education make more than 50K?\n",
        "\n",
        "    # with and without `Bachelors`, `Masters`, or `Doctorate`\n",
        "    higher_education = ((df['education'] == 'Bachelors').sum()+ (df['education']=='Masters').sum() + (df['education']== 'Doctorate').sum())\n",
        "\n",
        "    lower_education = (df['education'].value_counts().sum()) - (higher_education)\n",
        "    total_rich = df.loc[(df['salary']=='>50K')].value_counts().sum()\n",
        "    higher_ri = df.loc[(df['salary'] == '>50K') & ((df['education'] == 'Bachelors')|(df['education']=='Doctorate')|(df['education'] == 'Masters'))].value_counts().sum()\n",
        "    lower_ri = total_rich - higher_ri\n",
        "    # percentage with salary >50K\n",
        "    higher_education_rich = round((higher_ri/higher_education)*100,1)\n",
        "    lower_education_rich = round((lower_ri/lower_education)*100,1)\n",
        "\n",
        "    # What is the minimum number of hours a person works per week (hours-per-week feature)?\n",
        "    min_work_hours = df['hours-per-week'].min()\n",
        "\n",
        "    # What percentage of the people who work the minimum number of hours per week have a salary of >50K?\n",
        "    num_min_workers = df.loc[df['hours-per-week'] == 1].value_counts().sum()\n",
        "    min_high = df.loc[(df['hours-per-week'] == 1) & (df['salary'] == '>50K')].value_counts().sum()\n",
        "    rich_percentage = int((min_high/num_min_workers)*100)\n",
        "\n",
        "    # What country has the highest percentage of people that earn >50K?\n",
        "    highest_earning_country=(df[df['salary'] == '>50K']['native-country'].value_counts()/ df['native-country'].value_counts() * 100).idxmax()\n",
        "    highest_earning_country_percentage = round(len(df[(df['native-country'] == highest_earning_country) & (df['salary'] == '>50K')]) / len(df[(df['native-country'] == highest_earning_country)])*100,1)\n",
        "\n",
        "    # Identify the most popular occupation for those who earn >50K in India.\n",
        "    top_IN_occupation = (df[(df['salary'] == \">50K\") & (df['native-country'] == \"India\")][\"occupation\"].value_counts()).idxmax()\n",
        "\n",
        "  \n",
        "\n",
        "    if print_data:\n",
        "        print(\"Number of each race:\\n\", race_count) \n",
        "        print(\"Average age of men:\", average_age_men)\n",
        "        print(f\"Percentage with Bachelors degrees: {percentage_bachelors}%\")\n",
        "        print(f\"Percentage with higher education that earn >50K: {higher_education_rich}%\")\n",
        "        print(f\"Percentage without higher education that earn >50K: {lower_education_rich}%\")\n",
        "        print(f\"Min work time: {min_work_hours} hours/week\")\n",
        "        print(f\"Percentage of rich among those who work fewest hours: {rich_percentage}%\")\n",
        "        print(\"Country with highest percentage of rich:\", highest_earning_country)\n",
        "        print(f\"Highest percentage of rich people in country: {highest_earning_country_percentage}%\")\n",
        "        print(\"Top occupations in India:\", top_IN_occupation)\n",
        "\n",
        "    return {\n",
        "        'race_count': race_count,\n",
        "        'average_age_men': average_age_men,\n",
        "        'percentage_bachelors': percentage_bachelors,\n",
        "        'higher_education_rich': higher_education_rich,\n",
        "        'lower_education_rich': lower_education_rich,\n",
        "        'min_work_hours': min_work_hours,\n",
        "        'rich_percentage': rich_percentage,\n",
        "        'highest_earning_country': highest_earning_country,\n",
        "        'highest_earning_country_percentage':\n",
        "        highest_earning_country_percentage,\n",
        "        'top_IN_occupation': top_IN_occupation\n",
        "    }\n"
      ]
    },
    {
      "cell_type": "code",
      "source": [
        "calculate_demographic_data()"
      ],
      "metadata": {
        "colab": {
          "base_uri": "https://localhost:8080/"
        },
        "id": "WXKJhVeVKQjB",
        "outputId": "7b5246a5-9e4f-435a-f48c-551e2519e7f9"
      },
      "execution_count": 2,
      "outputs": [
        {
          "output_type": "stream",
          "name": "stdout",
          "text": [
            "Number of each race:\n",
            " White                 27816\n",
            "Black                  3124\n",
            "Asian-Pac-Islander     1039\n",
            "Amer-Indian-Eskimo      311\n",
            "Other                   271\n",
            "Name: race, dtype: int64\n",
            "Average age of men: 39.4\n",
            "Percentage with Bachelors degrees: 16.4%\n",
            "Percentage with higher education that earn >50K: 46.5%\n",
            "Percentage without higher education that earn >50K: 17.4%\n",
            "Min work time: 1 hours/week\n",
            "Percentage of rich among those who work fewest hours: 10%\n",
            "Country with highest percentage of rich: Iran\n",
            "Highest percentage of rich people in country: 41.9%\n",
            "Top occupations in India: Prof-specialty\n"
          ]
        },
        {
          "output_type": "execute_result",
          "data": {
            "text/plain": [
              "{'average_age_men': 39.4,\n",
              " 'higher_education_rich': 46.5,\n",
              " 'highest_earning_country': 'Iran',\n",
              " 'highest_earning_country_percentage': 41.9,\n",
              " 'lower_education_rich': 17.4,\n",
              " 'min_work_hours': 1,\n",
              " 'percentage_bachelors': 16.4,\n",
              " 'race_count': White                 27816\n",
              " Black                  3124\n",
              " Asian-Pac-Islander     1039\n",
              " Amer-Indian-Eskimo      311\n",
              " Other                   271\n",
              " Name: race, dtype: int64,\n",
              " 'rich_percentage': 10,\n",
              " 'top_IN_occupation': 'Prof-specialty'}"
            ]
          },
          "metadata": {},
          "execution_count": 2
        }
      ]
    },
    {
      "cell_type": "code",
      "source": [
        ""
      ],
      "metadata": {
        "id": "7j1m37l0KtXb"
      },
      "execution_count": null,
      "outputs": []
    }
  ]
}